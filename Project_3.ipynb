{
 "cells": [
  {
   "cell_type": "code",
   "execution_count": null,
   "id": "7c072c17",
   "metadata": {},
   "outputs": [],
   "source": [
    "import matplotlib.pyplot as plt\n",
    "import pandas as pd\n",
    "%matplotlib inline\n",
    "\n",
    "features = [\"Age\", \"Workclass\", \"fnlwgt\", \"Education\", \"Education-Num\", \"Martial Status\",\n",
    "        \"Occupation\", \"Relationship\", \"Race\", \"Sex\", \"Capital Gain\", \"Capital Loss\",\n",
    "        \"Hours per week\", \"Country\", \"Target\"] \n",
    "\n",
    "# Change these to local file if available\n",
    "train_url = 'https://archive.ics.uci.edu/ml/machine-learning-databases/adult/adult.data'\n",
    "test_url = 'https://archive.ics.uci.edu/ml/machine-learning-databases/adult/adult.test'\n",
    "original_train = pd.read_csv(train_url, names=features, sep=r'\\s*,\\s*', \n",
    "                             engine='python', na_values=\"?\", skipinitialspace=True)\n",
    "# This will download 1.9M\n",
    "original_test = pd.read_csv(test_url, names=features, sep=r'\\s*,\\s*', \n",
    "                            engine='python', na_values=\"?\", skiprows=1, skipinitialspace=True)\n",
    "\n",
    "original_train"
   ]
  },
  {
   "cell_type": "code",
   "execution_count": null,
   "id": "03336992",
   "metadata": {
    "pycharm": {
     "name": "#%%\n"
    }
   },
   "outputs": [],
   "source": [
    "original_test"
   ]
  },
  {
   "cell_type": "code",
   "execution_count": null,
   "id": "3e25d5b3",
   "metadata": {
    "pycharm": {
     "name": "#%%\n"
    }
   },
   "outputs": [],
   "source": []
  },
  {
   "cell_type": "code",
   "execution_count": null,
   "id": "40ca9e28",
   "metadata": {},
   "outputs": [],
   "source": [
    "original_train.isnull().sum()"
   ]
  },
  {
   "cell_type": "code",
   "execution_count": null,
   "id": "6fab0ff3",
   "metadata": {},
   "outputs": [],
   "source": [
    "original_test.isnull().sum()"
   ]
  },
  {
   "cell_type": "code",
   "execution_count": null,
   "id": "3f589eb0",
   "metadata": {},
   "outputs": [],
   "source": [
    "%matplotlib inline\n",
    "\n",
    "counts = original_train['Race'].value_counts()\n",
    "labels = counts.index\n",
    "\n",
    "#Plot pie chart\n",
    "plt.pie(counts, startangle=90)\n",
    "plt.legend(labels, loc=2,fontsize=15)\n",
    "plt.title(\"Race\",size=20)\n"
   ]
  },
  {
   "cell_type": "code",
   "execution_count": null,
   "id": "2821f0a6",
   "metadata": {},
   "outputs": [],
   "source": [
    "%matplotlib inline\n",
    "\n",
    "counts = original_train['Sex'].value_counts()\n",
    "labels = counts.index\n",
    "\n",
    "#Plot pie chart\n",
    "plt.pie(counts, startangle=90)\n",
    "plt.legend(labels, loc=2,fontsize=15)\n",
    "plt.title(\"Gender\",size=20)\n"
   ]
  },
  {
   "cell_type": "code",
   "execution_count": null,
   "id": "9d0e5181",
   "metadata": {},
   "outputs": [],
   "source": [
    "original = pd.concat([original_train, original_test])\n",
    "labels= original['Target']\n",
    "\n",
    "labels_train = original_train['Target']\n",
    "\n",
    "labels_test = original_test['Target']\n",
    "labels = labels.replace('<=50K', 0).replace('>50K', 1)\n",
    "labels = labels.replace('<=50K.', 0).replace('>50K.', 1)\n",
    "\n",
    "labels_train = labels_train.replace('<=50K', 0).replace('>50K', 1)\n",
    "labels_test = labels_test.replace('<=50K.', 0).replace('>50K.', 1)\n",
    "original_train['Income'] = labels_train\n",
    "original_test['Income'] = labels_test\n",
    "original_train\n",
    "original['Income'] = labels\n",
    "\n",
    "men_with_high_income = len(original[(original['Sex']=='Male') & (original['Income']==1)])\n",
    "men_with_low_income = len(original[(original['Sex']=='Male') & (original['Income']==0)])\n",
    "print(men_with_high_income)\n",
    "data_size_men  = len(original[(original['Sex']=='Male')])\n",
    "data_size_women  = len(original[(original['Sex']=='Female')])\n",
    "percentage_men = men_with_high_income/data_size_men\n",
    "percentage_men_low = men_with_low_income/data_size_men\n",
    "women_with_high_income = len(original[(original['Sex']=='Female') & (original['Income']==1)])\n",
    "women_with_low_income = len(original[(original['Sex']=='Female') & (original['Income']==0)])\n",
    "\n",
    "percentage_women = women_with_high_income/data_size_women \n",
    "\n",
    "percentage_women_low = women_with_low_income/data_size_women \n",
    "arr_m = [men_with_high_income, percentage_men]\n",
    "\n",
    "arr_w = [women_with_high_income, percentage_women]\n",
    "results = pd.DataFrame({'Male':arr_m, 'Female':arr_w})\n",
    "arr = pd.Series([\"Total >50K\", \"Probability/Ratio\"])\n",
    "results = results.set_index(arr)\n",
    "results\n"
   ]
  },
  {
   "cell_type": "code",
   "execution_count": null,
   "id": "3e4dc65a",
   "metadata": {},
   "outputs": [],
   "source": [
    "    adult_details = {'Adult Gender Differences': {'Male': {'Count': data_size_men,\n",
    "                                         'Total =<50K': men_with_low_income,\n",
    "                                         'Class probability of low income': percentage_men_low ,              \n",
    "                                         'Total > 50K': men_with_high_income,\n",
    "                                             'Class probability of high income': percentage_men,                \n",
    "                                                          },\n",
    "                               'Female': {'Count': data_size_women,\n",
    "                                         'Total =<50K': women_with_low_income,\n",
    "                                         'Class probability of low income': percentage_women_low ,              \n",
    "                                         'Total > 50K': women_with_high_income,\n",
    "                                         'Class probability of high income': percentage_women                 \n",
    "                                                          }}}\n",
    "\n",
    "\n",
    "    df=pd.DataFrame(adult_details['Adult Gender Differences'])\n",
    "    df"
   ]
  },
  {
   "cell_type": "code",
   "execution_count": null,
   "id": "39e9d12c",
   "metadata": {},
   "outputs": [],
   "source": []
  },
  {
   "cell_type": "code",
   "execution_count": null,
   "id": "b043bdbc",
   "metadata": {},
   "outputs": [],
   "source": []
  },
  {
   "cell_type": "code",
   "execution_count": null,
   "id": "8f23d1fe",
   "metadata": {},
   "outputs": [],
   "source": [
    "import numpy as np\n",
    "from sklearn import linear_model\n",
    "from sklearn.model_selection import train_test_split\n",
    "from sklearn.metrics import accuracy_score\n",
    "import seaborn as sns\n",
    "from sklearn.metrics import confusion_matrix\n",
    "\n",
    "lr = linear_model.LogisticRegression()\n",
    "def trainAndTestLR(data, Y, c, iterator):\n",
    "    y = Y\n",
    "    X = data\n",
    "    X_train, X_test, y_train, y_test = train_test_split(X,y,test_size= 0.4, random_state=0, shuffle=True)\n",
    "\n",
    "    lr.C = c\n",
    "    lr.max_iter = iterator\n",
    "\n",
    "    lr.fit(X_train, y_train)\n",
    "    y_pred = lr.predict(X_test)\n",
    "    train_pred = lr.predict(X_train)\n",
    "    test_pred = lr.predict(X_test)\n",
    "\n",
    "    # passing actual and predicted values\n",
    "    cm = confusion_matrix(y_test, test_pred)\n",
    "\n",
    "    # true Write data values in each cell of the matrix\n",
    "    sns.heatmap(cm, annot=True)\n",
    "    plt.savefig('confusionLR.png')\n",
    "\n",
    "\n",
    "    return accuracy_score(y_pred, y_test)"
   ]
  },
  {
   "cell_type": "code",
   "execution_count": null,
   "id": "f0031b01",
   "metadata": {
    "pycharm": {
     "name": "#%%\n"
    }
   },
   "outputs": [],
   "source": [
    "data = pd.concat([original_train, original_test], axis=0)\n",
    "\n",
    "data = pd.get_dummies(\n",
    "    data,\n",
    "    prefix=None,\n",
    "    prefix_sep='_',\n",
    "    dummy_na=False,\n",
    "    columns=['Workclass','Education','Martial Status','Occupation','Relationship','Race','Country'],\n",
    "    sparse=False,\n",
    "    drop_first=False,\n",
    "    dtype=None\n",
    "    )\n",
    "data['Sex'] = data['Sex'].replace('Female', 0).replace('Male', 1)\n",
    "data['Target'] = data['Target'].replace('<=50K', 0).replace('>50K', 1)\n",
    "data['Target'] = data['Target'].replace('<=50K.', 0).replace('>50K.', 1)\n",
    "#parameter LR\n",
    "\n",
    "C = [ 1]\n",
    "numIter = [100]\n",
    "\n",
    "Y = data['Target'].values\n",
    "\n",
    "train = data.drop(['Target'], axis=1).values\n",
    "\n",
    "for it in numIter:\n",
    "    for c in C:\n",
    "        tmpResLR = trainAndTestLR(train, Y, c, it)\n",
    "        print(tmpResLR)\n",
    "        "
   ]
  },
  {
   "cell_type": "code",
   "execution_count": null,
   "id": "a68c83ee",
   "metadata": {
    "pycharm": {
     "name": "#%%\n"
    }
   },
   "outputs": [],
   "source": []
  },
  {
   "cell_type": "code",
   "execution_count": null,
   "id": "d2d5266c",
   "metadata": {
    "pycharm": {
     "name": "#%%\n"
    }
   },
   "outputs": [],
   "source": []
  },
  {
   "cell_type": "code",
   "execution_count": null,
   "id": "5dba539d",
   "metadata": {
    "pycharm": {
     "name": "#%%\n"
    }
   },
   "outputs": [],
   "source": []
  }
 ],
 "metadata": {
  "kernelspec": {
   "display_name": "Python 3 (ipykernel)",
   "language": "python",
   "name": "python3"
  },
  "language_info": {
   "codemirror_mode": {
    "name": "ipython",
    "version": 3
   },
   "file_extension": ".py",
   "mimetype": "text/x-python",
   "name": "python",
   "nbconvert_exporter": "python",
   "pygments_lexer": "ipython3",
   "version": "3.9.7"
  }
 },
 "nbformat": 4,
 "nbformat_minor": 5
}
